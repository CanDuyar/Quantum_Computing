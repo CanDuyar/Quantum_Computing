{
 "cells": [
  {
   "cell_type": "code",
   "execution_count": 35,
   "metadata": {},
   "outputs": [],
   "source": [
    "from qiskit import QuantumCircuit\n",
    "from qiskit import IBMQ, Aer, transpile, assemble\n",
    "from qiskit.visualization import plot_histogram"
   ]
  },
  {
   "cell_type": "code",
   "execution_count": 36,
   "metadata": {},
   "outputs": [],
   "source": [
    "# Bell State\n",
    "\n",
    "def create_bell_pair(qc, a, b):\n",
    "    '''\n",
    "    create a bell pair with circuit qc, control bit a and target bit b\n",
    "    '''\n",
    "    \n",
    "    qc.h(a) # Hadamard to first bit\n",
    "    qc.cx(a,b) # CNOT on both \n",
    "    "
   ]
  },
  {
   "cell_type": "markdown",
   "metadata": {},
   "source": [
    "After preparation, the qubits are being sent to Alice and Bob. Next, Alice has to encode her classical bit sequence by manipulating her qubit. We will do this yet another function."
   ]
  },
  {
   "cell_type": "code",
   "execution_count": 37,
   "metadata": {},
   "outputs": [],
   "source": [
    "def encode_message(qc, qubit, msg):\n",
    "    '''\n",
    "    qc... quantum circuit\n",
    "    qubit... Alice's qubit\n",
    "    msg... 00,01,10 or 11\n",
    "    '''\n",
    "    \n",
    "    if msg == \"00\":\n",
    "        pass # identity\n",
    "\n",
    "    elif msg == \"10\":\n",
    "        qc.x(qubit)\n",
    "        \n",
    "    elif msg == \"01\":\n",
    "        qc.z(qubit)\n",
    "        \n",
    "    elif msg == \"11\":\n",
    "        qc.z(qubit)\n",
    "        qc.x(qubit)\n",
    "    else:\n",
    "        print(\"Invalid sequence. Sending '00'. \")"
   ]
  },
  {
   "cell_type": "markdown",
   "metadata": {},
   "source": [
    "After encoding, Alice sends her qubit to Bob. Now Bob can start decoding the message."
   ]
  },
  {
   "cell_type": "code",
   "execution_count": 38,
   "metadata": {},
   "outputs": [],
   "source": [
    "def decode_message(qc, a, b):\n",
    "    '''\n",
    "    qc... quantum circuit\n",
    "    a... qubit 0\n",
    "    b... qubit 1\n",
    "    '''\n",
    "    \n",
    "    qc.cx(a,b)\n",
    "    qc.h(a)"
   ]
  },
  {
   "cell_type": "markdown",
   "metadata": {},
   "source": [
    "Now we can assemble the full quantum circuit using the functions that we defined above."
   ]
  },
  {
   "cell_type": "code",
   "execution_count": 39,
   "metadata": {},
   "outputs": [
    {
     "data": {
      "image/png": "[encoded data removed]",
      "text/plain": [
       "<Figure size 718.879x204.68 with 1 Axes>"
      ]
     },
     "execution_count": 39,
     "metadata": {},
     "output_type": "execute_result"
    }
   ],
   "source": [
    "qc = QuantumCircuit(2) # 2-qubit quantum circuit\n",
    "\n",
    "# step a) preparation\n",
    "create_bell_pair(qc, 0, 1)\n",
    "qc.barrier() # visual segmentation of the circuit, no implication\n",
    "\n",
    "# step b) sending one qubit to Alice and the other to Bob\n",
    "\n",
    "# step c) (encoding, Alice)\n",
    "# choose message\n",
    "message = \"10\"\n",
    "encode_message(qc, 0, message)\n",
    "qc.barrier() # visual segmentation of the circuit, no implication\n",
    "\n",
    "# step d) Alice sends her qubit to Bob\n",
    "\n",
    "# step e) decoding(Bob)\n",
    "decode_message(qc, 0, 1)\n",
    "qc.measure_all()\n",
    "\n",
    "# draw circuit\n",
    "qc.draw('mpl')"
   ]
  },
  {
   "cell_type": "markdown",
   "metadata": {},
   "source": [
    "Now let's run this circuit using a simulator"
   ]
  },
  {
   "cell_type": "code",
   "execution_count": 40,
   "metadata": {},
   "outputs": [
    {
     "name": "stdout",
     "output_type": "stream",
     "text": [
      "{'10': 1024}\n"
     ]
    },
    {
     "data": {
      "image/png": "[encoded data removed]",
      "text/plain": [
       "<Figure size 504x360 with 1 Axes>"
      ]
     },
     "execution_count": 40,
     "metadata": {},
     "output_type": "execute_result"
    }
   ],
   "source": [
    "aer_sim = Aer.get_backend(\"aer_simulator\")\n",
    "qobj = assemble(qc)\n",
    "result = aer_sim.run(qobj).result()\n",
    "count = result.get_counts(qc)\n",
    "print(count)\n",
    "plot_histogram(count)"
   ]
  },
  {
   "cell_type": "markdown",
   "metadata": {},
   "source": [
    "Now we will use the IBM Quantum Experience API to run this circuit on an actual quantum computer."
   ]
  },
  {
   "cell_type": "code",
   "execution_count": 44,
   "metadata": {},
   "outputs": [
    {
     "name": "stderr",
     "output_type": "stream",
     "text": [
      "configrc.store_credentials:WARNING:2021-09-26 00:29:15,929: Credentials already present. Set overwrite=True to overwrite.\n",
      "ibmqfactory.load_account:WARNING:2021-09-26 00:29:17,410: Credentials are already in use. The existing account in the session will be replaced.\n"
     ]
    },
    {
     "name": "stdout",
     "output_type": "stream",
     "text": [
      "least busy backend:  ibmq_bogota\n"
     ]
    }
   ],
   "source": [
    "from qiskit import IBMQ\n",
    "from qiskit.providers.ibmq import least_busy\n",
    "shots = 1024\n",
    "\n",
    "TOKEN = '89c70d1108a6478f58c22b4dba84a9df24ec96c37b14e28707c93099b16de3ddea0c97e5265b03fcbbef4505ff3f72fc025c861bf0b4aea23deb03eefdbf703f'\n",
    "IBMQ.save_account(TOKEN) # prepare account for using API\n",
    " \n",
    "# Load local account information\n",
    "IBMQ.load_account()\n",
    "# Get the least busy backend\n",
    "provider = IBMQ.get_provider(hub='ibm-q')\n",
    "backend = least_busy(provider.backends(filters=lambda x: x.configuration().n_qubits >= 2 \n",
    "                                       and not x.configuration().simulator \n",
    "                                       and x.status().operational==True))\n",
    "print(\"least busy backend: \", backend)\n",
    "# Run our circuit\n",
    "t_qc = transpile(qc, backend, optimization_level=3)\n",
    "job = backend.run(t_qc)"
   ]
  },
  {
   "cell_type": "code",
   "execution_count": 45,
   "metadata": {},
   "outputs": [
    {
     "name": "stdout",
     "output_type": "stream",
     "text": [
      "Job Status: job incurred error    \n"
     ]
    }
   ],
   "source": [
    "# Monitoring our job\n",
    "from qiskit.tools.monitor import job_monitor\n",
    "job_monitor(job)"
   ]
  },
  {
   "cell_type": "code",
   "execution_count": null,
   "metadata": {},
   "outputs": [],
   "source": [
    "# Plotting our result\n",
    "result = job.result()\n",
    "plot_histogram(result.get_counts(qc))"
   ]
  },
  {
   "cell_type": "code",
   "execution_count": null,
   "metadata": {},
   "outputs": [],
   "source": []
  },
  {
   "cell_type": "code",
   "execution_count": null,
   "metadata": {},
   "outputs": [],
   "source": []
  },
  {
   "cell_type": "code",
   "execution_count": null,
   "metadata": {},
   "outputs": [],
   "source": []
  }
 ],
 "metadata": {
  "kernelspec": {
   "display_name": "Python 3",
   "language": "python",
   "name": "python3"
  },
  "language_info": {
   "codemirror_mode": {
    "name": "ipython",
    "version": 3
   },
   "file_extension": ".py",
   "mimetype": "text/x-python",
   "name": "python",
   "nbconvert_exporter": "python",
   "pygments_lexer": "ipython3",
   "version": "3.7.6"
  }
 },
 "nbformat": 4,
 "nbformat_minor": 4
}
